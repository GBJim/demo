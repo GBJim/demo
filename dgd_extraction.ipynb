{
 "cells": [
  {
   "cell_type": "code",
   "execution_count": 1,
   "metadata": {
    "collapsed": true
   },
   "outputs": [],
   "source": [
    "import sys\n",
    "import cv2\n",
    "import numpy as np\n",
    "from sklearn.metrics.pairwise import pairwise_distances\n",
    "import caffe\n",
    "import glob\n",
    "from matplotlib import pyplot as plt\n",
    "import json \n",
    "from cmc import cmc\n",
    "import os\n",
    "from random import randint\n",
    "%matplotlib inline\n"
   ]
  },
  {
   "cell_type": "code",
   "execution_count": 2,
   "metadata": {
    "collapsed": true
   },
   "outputs": [],
   "source": [
    "#Set GPU usage\n",
    "GPU_ID = 3\n",
    "caffe.set_mode_gpu()\n",
    "caffe.set_device(GPU_ID)\n",
    "caffe.set_mode_gpu()\n",
    "caffe.set_device(GPU_ID)\n",
    "#Loading the network\n",
    "prototxt = \"/root/data/dgd_pretrained_models/Pretrained models/jstl_dgd_deploy_inference.prototxt\" \n",
    "caffemodel = \"/root/data/dgd_pretrained_models/Pretrained models/jstl_dgd_inference.caffemodel\"\n",
    "net = caffe.Net(prototxt, caffemodel, caffe.TEST)\n"
   ]
  },
  {
   "cell_type": "code",
   "execution_count": 20,
   "metadata": {
    "collapsed": true
   },
   "outputs": [],
   "source": [
    "# A data wraper to parse the formatted RE-ID dataset\n",
    "class DataWrapper():\n",
    "    def __init__(self, data_path, img_format=\".jpg\", n_dim=256):\n",
    "        self.data_path = data_path\n",
    "        self.img_format = img_format\n",
    "        self.n_dim = n_dim\n",
    "        self.splits = json.load(open(os.path.join(data_path, \"splits.json\")))\n",
    "        self.pid_paths = self.parse_path()\n",
    "        self.features = {}\n",
    "        for p_id in self.pid_paths:\n",
    "            self.features[p_id] = {}\n",
    "            for cam_id, img_path in self.pid_paths[p_id].items():    \n",
    "                self.features[p_id][cam_id] = extract_features(net, [img_path])\n",
    "               \n",
    "            \n",
    "    def parse_path(self):\n",
    "        pid_paths = {}\n",
    "        img_dir = os.path.join(self.data_path, \"images\", \"*{}\".format(self.img_format))\n",
    "        img_paths = glob.glob(img_dir)\n",
    "        for img_path in img_paths:\n",
    "            img_name = os.path.basename(img_path)\n",
    "            p_id, cam_id, _ = img_name.split(\"_\")\n",
    "            p_id = int(p_id)\n",
    "            cam_id = int(cam_id)\n",
    "            if p_id not in pid_paths:\n",
    "                pid_paths[p_id] = {}\n",
    "            pid_paths[p_id][cam_id] = img_path\n",
    "        return pid_paths\n",
    "    \n",
    "    def get_split(self, split=0):\n",
    "        query_split = self.splits[split]['query']\n",
    "        gallery_split = self.splits[split]['gallery']\n",
    "                                           \n",
    "        Q_ID = np.array(query_split, dtype=int)    \n",
    "        G_ID = np.array(gallery_split, dtype=int)                                   \n",
    "        QX = np.zeros((len(query_split), self.n_dim))\n",
    "        GX = np.zeros((len(gallery_split), self.n_dim))                                 \n",
    "                                \n",
    "        for i, p_id in enumerate(query_split):\n",
    "            #query_cam = randint(0, 1)\n",
    "            query_cam = 0\n",
    "            gallery_cam = 0 if query_cam else 1\n",
    "            QX[i] = self.features[p_id][query_cam]\n",
    "            GX[i] = self.features[p_id][gallery_cam]\n",
    " \n",
    "        return QX, GX, Q_ID, G_ID\n",
    "\n",
    "#Visualize CMC chart from the given distance matrix\n",
    "def viz_CMC(C, G_ID=None, Q_ID=None):    \n",
    "    print(\"The Top 1 Accuracy is {0:2f}%\".format(C[0]*100))\n",
    "    plt.title(\"CMC Chart of Viper dataset\")\n",
    "    plt.xlabel(\"Rank\")\n",
    "    plt.ylabel(\"Precision\")\n",
    "    plt.plot(C)\n",
    "    plt.show()\n",
    "    \n",
    "def euclidean_distance(GF, QF, n_jobs=4):    \n",
    "    return pairwise_distances(GF, QF, n_jobs=n_jobs)\n",
    "\n",
    "\n",
    "\n",
    "\n",
    "\n",
    "\n",
    "#Create a input transformer\n",
    "assumed_mean=np.array([101,102,102])\n",
    "transformer = caffe.io.Transformer({'data': net.blobs['data'].data.shape})\n",
    "transformer.set_mean('data', assumed_mean)\n",
    "transformer.set_transpose('data', (2,0,1))\n",
    "#transformer.set_raw_scale('data', 255.0)  --> This line decrease the CMC performance\n",
    "#reshape the input blob size into the designed size of CNN\n",
    "net.blobs['data'].reshape(1,3,144,56)\n",
    "\n",
    "\n",
    "def extract_features(net, img_paths, target_layer='fc7'):\n",
    "    columns = net.blobs[target_layer].channels\n",
    "    rows = len(img_paths)\n",
    "    features = np.zeros((rows, columns))\n",
    "    for i, img_path in enumerate(img_paths):\n",
    "        img = caffe.io.load_image(img_path)\n",
    "        net.blobs['data'].data[...] = transformer.preprocess('data', img)\n",
    "        output = net.forward()\n",
    "        features[i] = output[target_layer][0]\n",
    "\n",
    "    return features\n"
   ]
  },
  {
   "cell_type": "code",
   "execution_count": 21,
   "metadata": {},
   "outputs": [
    {
     "name": "stdout",
     "output_type": "stream",
     "text": [
      "The Top 1 Accuracy is 2.563291%\n"
     ]
    },
    {
     "data": {
      "image/png": "[encoded data removed]",
      "text/plain": [
       "<matplotlib.figure.Figure at 0x7f8c84352ed0>"
      ]
     },
     "metadata": {},
     "output_type": "display_data"
    }
   ],
   "source": [
    "viper = DataWrapper(\"/root/data/reid/viper/\")\n",
    "#Calculating the average CMC from 10 splits\n",
    "QX, GX, Q_ID, G_ID = viper.get_split(split=0)\n",
    "dist_matrix = euclidean_distance(GX, QX)\n",
    "C = cmc(dist_matrix)\n",
    "#C = cmc(np.random.rand(row, column))\n",
    "for split in range(1, 10):\n",
    "    QX, GX, Q_ID, G_ID = viper.get_split(split=split)\n",
    "    dist_matrix = euclidean_distance(GX, QX)\n",
    "    C += cmc(dist_matrix)\n",
    "C /= 10\n",
    "#print(\"Euclidean Distance\")\n",
    "viz_CMC(C)"
   ]
  }
 ],
 "metadata": {
  "kernelspec": {
   "display_name": "Python 2",
   "language": "python",
   "name": "python2"
  },
  "language_info": {
   "codemirror_mode": {
    "name": "ipython",
    "version": 2
   },
   "file_extension": ".py",
   "mimetype": "text/x-python",
   "name": "python",
   "nbconvert_exporter": "python",
   "pygments_lexer": "ipython2",
   "version": "2.7.6"
  }
 },
 "nbformat": 4,
 "nbformat_minor": 2
}
